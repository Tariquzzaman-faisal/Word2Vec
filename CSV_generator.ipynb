{
 "cells": [
  {
   "cell_type": "code",
   "execution_count": null,
   "id": "da3b097e-3819-4e65-a168-7193e7495c35",
   "metadata": {
    "tags": []
   },
   "outputs": [],
   "source": [
    "import zipfile"
   ]
  },
  {
   "cell_type": "code",
   "execution_count": null,
   "id": "f7a4132a-190f-4c11-9d61-908478355288",
   "metadata": {
    "tags": []
   },
   "outputs": [],
   "source": [
    "import zipfile\n",
    "with zipfile.ZipFile(\"data_v2.json.zip\", 'r') as zip_ref:\n",
    "    zip_ref.extractall()"
   ]
  },
  {
   "cell_type": "code",
   "execution_count": null,
   "id": "99a2d6b8-1175-48e7-bffd-8924fd87ba6c",
   "metadata": {
    "tags": []
   },
   "outputs": [],
   "source": [
    "import pandas as pd\n",
    "\n",
    "df = pd.read_json('data_v2.json')"
   ]
  },
  {
   "cell_type": "code",
   "execution_count": null,
   "id": "9cbd51d8-704d-47a8-b262-da14d069b15f",
   "metadata": {
    "tags": []
   },
   "outputs": [],
   "source": [
    "df.head(5)"
   ]
  },
  {
   "cell_type": "code",
   "execution_count": null,
   "id": "2384b1a3-a18f-489d-8d79-d4d09b436b81",
   "metadata": {
    "tags": []
   },
   "outputs": [],
   "source": [
    "content = df['content']"
   ]
  },
  {
   "cell_type": "code",
   "execution_count": null,
   "id": "3222bca9-15ce-401a-b106-b223390282f4",
   "metadata": {
    "tags": []
   },
   "outputs": [],
   "source": [
    "content.head(5)"
   ]
  },
  {
   "cell_type": "code",
   "execution_count": null,
   "id": "9aeb216c-1587-4673-9028-313f201a16a7",
   "metadata": {
    "tags": []
   },
   "outputs": [],
   "source": [
    "content.to_csv('data.csv', index=False)"
   ]
  },
  {
   "cell_type": "code",
   "execution_count": null,
   "id": "9686dcae-6f30-4cff-8750-0dcb26bed2eb",
   "metadata": {
    "tags": []
   },
   "outputs": [],
   "source": [
    "bangladata = pd.read_csv('data.csv')"
   ]
  },
  {
   "cell_type": "code",
   "execution_count": null,
   "id": "8506ec4d-df3c-460c-843b-6f0ff032cbbf",
   "metadata": {
    "tags": []
   },
   "outputs": [],
   "source": [
    "bangladata.head(5)"
   ]
  }
 ],
 "metadata": {
  "kernelspec": {
   "display_name": "py39",
   "language": "python",
   "name": "py39"
  },
  "language_info": {
   "codemirror_mode": {
    "name": "ipython",
    "version": 3
   },
   "file_extension": ".py",
   "mimetype": "text/x-python",
   "name": "python",
   "nbconvert_exporter": "python",
   "pygments_lexer": "ipython3",
   "version": "3.9.16"
  }
 },
 "nbformat": 4,
 "nbformat_minor": 5
}
